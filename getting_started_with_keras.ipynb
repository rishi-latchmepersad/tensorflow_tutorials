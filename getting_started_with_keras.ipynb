{
  "nbformat": 4,
  "nbformat_minor": 0,
  "metadata": {
    "colab": {
      "provenance": [],
      "gpuType": "T4",
      "authorship_tag": "ABX9TyPPBNRitP/ZyLkdxdZ90k7G",
      "include_colab_link": true
    },
    "kernelspec": {
      "name": "python3",
      "display_name": "Python 3"
    },
    "language_info": {
      "name": "python"
    },
    "accelerator": "GPU"
  },
  "cells": [
    {
      "cell_type": "markdown",
      "metadata": {
        "id": "view-in-github",
        "colab_type": "text"
      },
      "source": [
        "<a href=\"https://colab.research.google.com/github/rishi-latchmepersad/tensorflow_tutorials/blob/main/getting_started_with_keras.ipynb\" target=\"_parent\"><img src=\"https://colab.research.google.com/assets/colab-badge.svg\" alt=\"Open In Colab\"/></a>"
      ]
    },
    {
      "cell_type": "code",
      "execution_count": 1,
      "metadata": {
        "colab": {
          "base_uri": "https://localhost:8080/"
        },
        "id": "7_-5gbTgC5pB",
        "outputId": "de6319fd-e395-4409-b4c6-29a62dd5314e"
      },
      "outputs": [
        {
          "output_type": "stream",
          "name": "stdout",
          "text": [
            "Requirement already satisfied: keras in /usr/local/lib/python3.12/dist-packages (3.11.3)\n",
            "Requirement already satisfied: absl-py in /usr/local/lib/python3.12/dist-packages (from keras) (1.4.0)\n",
            "Requirement already satisfied: numpy in /usr/local/lib/python3.12/dist-packages (from keras) (2.0.2)\n",
            "Requirement already satisfied: rich in /usr/local/lib/python3.12/dist-packages (from keras) (13.9.4)\n",
            "Requirement already satisfied: namex in /usr/local/lib/python3.12/dist-packages (from keras) (0.1.0)\n",
            "Requirement already satisfied: h5py in /usr/local/lib/python3.12/dist-packages (from keras) (3.14.0)\n",
            "Requirement already satisfied: optree in /usr/local/lib/python3.12/dist-packages (from keras) (0.17.0)\n",
            "Requirement already satisfied: ml-dtypes in /usr/local/lib/python3.12/dist-packages (from keras) (0.5.3)\n",
            "Requirement already satisfied: packaging in /usr/local/lib/python3.12/dist-packages (from keras) (25.0)\n",
            "Requirement already satisfied: typing-extensions>=4.6.0 in /usr/local/lib/python3.12/dist-packages (from optree->keras) (4.15.0)\n",
            "Requirement already satisfied: markdown-it-py>=2.2.0 in /usr/local/lib/python3.12/dist-packages (from rich->keras) (4.0.0)\n",
            "Requirement already satisfied: pygments<3.0.0,>=2.13.0 in /usr/local/lib/python3.12/dist-packages (from rich->keras) (2.19.2)\n",
            "Requirement already satisfied: mdurl~=0.1 in /usr/local/lib/python3.12/dist-packages (from markdown-it-py>=2.2.0->rich->keras) (0.1.2)\n",
            "Requirement already satisfied: keras-cv in /usr/local/lib/python3.12/dist-packages (0.9.0)\n",
            "Requirement already satisfied: packaging in /usr/local/lib/python3.12/dist-packages (from keras-cv) (25.0)\n",
            "Requirement already satisfied: absl-py in /usr/local/lib/python3.12/dist-packages (from keras-cv) (1.4.0)\n",
            "Requirement already satisfied: regex in /usr/local/lib/python3.12/dist-packages (from keras-cv) (2024.11.6)\n",
            "Requirement already satisfied: tensorflow-datasets in /usr/local/lib/python3.12/dist-packages (from keras-cv) (4.9.9)\n",
            "Requirement already satisfied: keras-core in /usr/local/lib/python3.12/dist-packages (from keras-cv) (0.1.7)\n",
            "Requirement already satisfied: kagglehub in /usr/local/lib/python3.12/dist-packages (from keras-cv) (0.3.13)\n",
            "Requirement already satisfied: pyyaml in /usr/local/lib/python3.12/dist-packages (from kagglehub->keras-cv) (6.0.2)\n",
            "Requirement already satisfied: requests in /usr/local/lib/python3.12/dist-packages (from kagglehub->keras-cv) (2.32.4)\n",
            "Requirement already satisfied: tqdm in /usr/local/lib/python3.12/dist-packages (from kagglehub->keras-cv) (4.67.1)\n",
            "Requirement already satisfied: numpy in /usr/local/lib/python3.12/dist-packages (from keras-core->keras-cv) (2.0.2)\n",
            "Requirement already satisfied: rich in /usr/local/lib/python3.12/dist-packages (from keras-core->keras-cv) (13.9.4)\n",
            "Requirement already satisfied: namex in /usr/local/lib/python3.12/dist-packages (from keras-core->keras-cv) (0.1.0)\n",
            "Requirement already satisfied: h5py in /usr/local/lib/python3.12/dist-packages (from keras-core->keras-cv) (3.14.0)\n",
            "Requirement already satisfied: dm-tree in /usr/local/lib/python3.12/dist-packages (from keras-core->keras-cv) (0.1.9)\n",
            "Requirement already satisfied: array_record>=0.5.0 in /usr/local/lib/python3.12/dist-packages (from tensorflow-datasets->keras-cv) (0.8.1)\n",
            "Requirement already satisfied: etils>=1.9.1 in /usr/local/lib/python3.12/dist-packages (from etils[edc,enp,epath,epy,etree]>=1.9.1; python_version >= \"3.11\"->tensorflow-datasets->keras-cv) (1.13.0)\n",
            "Requirement already satisfied: immutabledict in /usr/local/lib/python3.12/dist-packages (from tensorflow-datasets->keras-cv) (4.2.1)\n",
            "Requirement already satisfied: promise in /usr/local/lib/python3.12/dist-packages (from tensorflow-datasets->keras-cv) (2.3)\n",
            "Requirement already satisfied: protobuf>=3.20 in /usr/local/lib/python3.12/dist-packages (from tensorflow-datasets->keras-cv) (5.29.5)\n",
            "Requirement already satisfied: psutil in /usr/local/lib/python3.12/dist-packages (from tensorflow-datasets->keras-cv) (5.9.5)\n",
            "Requirement already satisfied: pyarrow in /usr/local/lib/python3.12/dist-packages (from tensorflow-datasets->keras-cv) (18.1.0)\n",
            "Requirement already satisfied: simple_parsing in /usr/local/lib/python3.12/dist-packages (from tensorflow-datasets->keras-cv) (0.1.7)\n",
            "Requirement already satisfied: tensorflow-metadata in /usr/local/lib/python3.12/dist-packages (from tensorflow-datasets->keras-cv) (1.17.2)\n",
            "Requirement already satisfied: termcolor in /usr/local/lib/python3.12/dist-packages (from tensorflow-datasets->keras-cv) (3.1.0)\n",
            "Requirement already satisfied: toml in /usr/local/lib/python3.12/dist-packages (from tensorflow-datasets->keras-cv) (0.10.2)\n",
            "Requirement already satisfied: wrapt in /usr/local/lib/python3.12/dist-packages (from tensorflow-datasets->keras-cv) (1.17.3)\n",
            "Requirement already satisfied: einops in /usr/local/lib/python3.12/dist-packages (from etils[edc,enp,epath,epy,etree]>=1.9.1; python_version >= \"3.11\"->tensorflow-datasets->keras-cv) (0.8.1)\n",
            "Requirement already satisfied: fsspec in /usr/local/lib/python3.12/dist-packages (from etils[edc,enp,epath,epy,etree]>=1.9.1; python_version >= \"3.11\"->tensorflow-datasets->keras-cv) (2025.3.0)\n",
            "Requirement already satisfied: importlib_resources in /usr/local/lib/python3.12/dist-packages (from etils[edc,enp,epath,epy,etree]>=1.9.1; python_version >= \"3.11\"->tensorflow-datasets->keras-cv) (6.5.2)\n",
            "Requirement already satisfied: typing_extensions in /usr/local/lib/python3.12/dist-packages (from etils[edc,enp,epath,epy,etree]>=1.9.1; python_version >= \"3.11\"->tensorflow-datasets->keras-cv) (4.15.0)\n",
            "Requirement already satisfied: zipp in /usr/local/lib/python3.12/dist-packages (from etils[edc,enp,epath,epy,etree]>=1.9.1; python_version >= \"3.11\"->tensorflow-datasets->keras-cv) (3.23.0)\n",
            "Requirement already satisfied: charset_normalizer<4,>=2 in /usr/local/lib/python3.12/dist-packages (from requests->kagglehub->keras-cv) (3.4.3)\n",
            "Requirement already satisfied: idna<4,>=2.5 in /usr/local/lib/python3.12/dist-packages (from requests->kagglehub->keras-cv) (3.10)\n",
            "Requirement already satisfied: urllib3<3,>=1.21.1 in /usr/local/lib/python3.12/dist-packages (from requests->kagglehub->keras-cv) (2.5.0)\n",
            "Requirement already satisfied: certifi>=2017.4.17 in /usr/local/lib/python3.12/dist-packages (from requests->kagglehub->keras-cv) (2025.8.3)\n",
            "Requirement already satisfied: attrs>=18.2.0 in /usr/local/lib/python3.12/dist-packages (from dm-tree->keras-core->keras-cv) (25.3.0)\n",
            "Requirement already satisfied: six in /usr/local/lib/python3.12/dist-packages (from promise->tensorflow-datasets->keras-cv) (1.17.0)\n",
            "Requirement already satisfied: markdown-it-py>=2.2.0 in /usr/local/lib/python3.12/dist-packages (from rich->keras-core->keras-cv) (4.0.0)\n",
            "Requirement already satisfied: pygments<3.0.0,>=2.13.0 in /usr/local/lib/python3.12/dist-packages (from rich->keras-core->keras-cv) (2.19.2)\n",
            "Requirement already satisfied: docstring-parser<1.0,>=0.15 in /usr/local/lib/python3.12/dist-packages (from simple_parsing->tensorflow-datasets->keras-cv) (0.17.0)\n",
            "Requirement already satisfied: googleapis-common-protos<2,>=1.56.4 in /usr/local/lib/python3.12/dist-packages (from tensorflow-metadata->tensorflow-datasets->keras-cv) (1.70.0)\n",
            "Requirement already satisfied: mdurl~=0.1 in /usr/local/lib/python3.12/dist-packages (from markdown-it-py>=2.2.0->rich->keras-core->keras-cv) (0.1.2)\n",
            "Requirement already satisfied: keras-hub in /usr/local/lib/python3.12/dist-packages (0.21.1)\n",
            "Collecting keras-hub\n",
            "  Downloading keras_hub-0.22.2-py3-none-any.whl.metadata (7.4 kB)\n",
            "Requirement already satisfied: keras>=3.8 in /usr/local/lib/python3.12/dist-packages (from keras-hub) (3.11.3)\n",
            "Requirement already satisfied: absl-py in /usr/local/lib/python3.12/dist-packages (from keras-hub) (1.4.0)\n",
            "Requirement already satisfied: numpy in /usr/local/lib/python3.12/dist-packages (from keras-hub) (2.0.2)\n",
            "Requirement already satisfied: packaging in /usr/local/lib/python3.12/dist-packages (from keras-hub) (25.0)\n",
            "Requirement already satisfied: regex in /usr/local/lib/python3.12/dist-packages (from keras-hub) (2024.11.6)\n",
            "Requirement already satisfied: rich in /usr/local/lib/python3.12/dist-packages (from keras-hub) (13.9.4)\n",
            "Requirement already satisfied: kagglehub in /usr/local/lib/python3.12/dist-packages (from keras-hub) (0.3.13)\n",
            "Requirement already satisfied: tensorflow-text in /usr/local/lib/python3.12/dist-packages (from keras-hub) (2.19.0)\n",
            "Requirement already satisfied: namex in /usr/local/lib/python3.12/dist-packages (from keras>=3.8->keras-hub) (0.1.0)\n",
            "Requirement already satisfied: h5py in /usr/local/lib/python3.12/dist-packages (from keras>=3.8->keras-hub) (3.14.0)\n",
            "Requirement already satisfied: optree in /usr/local/lib/python3.12/dist-packages (from keras>=3.8->keras-hub) (0.17.0)\n",
            "Requirement already satisfied: ml-dtypes in /usr/local/lib/python3.12/dist-packages (from keras>=3.8->keras-hub) (0.5.3)\n",
            "Requirement already satisfied: pyyaml in /usr/local/lib/python3.12/dist-packages (from kagglehub->keras-hub) (6.0.2)\n",
            "Requirement already satisfied: requests in /usr/local/lib/python3.12/dist-packages (from kagglehub->keras-hub) (2.32.4)\n",
            "Requirement already satisfied: tqdm in /usr/local/lib/python3.12/dist-packages (from kagglehub->keras-hub) (4.67.1)\n",
            "Requirement already satisfied: markdown-it-py>=2.2.0 in /usr/local/lib/python3.12/dist-packages (from rich->keras-hub) (4.0.0)\n",
            "Requirement already satisfied: pygments<3.0.0,>=2.13.0 in /usr/local/lib/python3.12/dist-packages (from rich->keras-hub) (2.19.2)\n",
            "Requirement already satisfied: tensorflow<2.20,>=2.19.0 in /usr/local/lib/python3.12/dist-packages (from tensorflow-text->keras-hub) (2.19.0)\n",
            "Requirement already satisfied: mdurl~=0.1 in /usr/local/lib/python3.12/dist-packages (from markdown-it-py>=2.2.0->rich->keras-hub) (0.1.2)\n",
            "Requirement already satisfied: astunparse>=1.6.0 in /usr/local/lib/python3.12/dist-packages (from tensorflow<2.20,>=2.19.0->tensorflow-text->keras-hub) (1.6.3)\n",
            "Requirement already satisfied: flatbuffers>=24.3.25 in /usr/local/lib/python3.12/dist-packages (from tensorflow<2.20,>=2.19.0->tensorflow-text->keras-hub) (25.2.10)\n",
            "Requirement already satisfied: gast!=0.5.0,!=0.5.1,!=0.5.2,>=0.2.1 in /usr/local/lib/python3.12/dist-packages (from tensorflow<2.20,>=2.19.0->tensorflow-text->keras-hub) (0.6.0)\n",
            "Requirement already satisfied: google-pasta>=0.1.1 in /usr/local/lib/python3.12/dist-packages (from tensorflow<2.20,>=2.19.0->tensorflow-text->keras-hub) (0.2.0)\n",
            "Requirement already satisfied: libclang>=13.0.0 in /usr/local/lib/python3.12/dist-packages (from tensorflow<2.20,>=2.19.0->tensorflow-text->keras-hub) (18.1.1)\n",
            "Requirement already satisfied: opt-einsum>=2.3.2 in /usr/local/lib/python3.12/dist-packages (from tensorflow<2.20,>=2.19.0->tensorflow-text->keras-hub) (3.4.0)\n",
            "Requirement already satisfied: protobuf!=4.21.0,!=4.21.1,!=4.21.2,!=4.21.3,!=4.21.4,!=4.21.5,<6.0.0dev,>=3.20.3 in /usr/local/lib/python3.12/dist-packages (from tensorflow<2.20,>=2.19.0->tensorflow-text->keras-hub) (5.29.5)\n",
            "Requirement already satisfied: setuptools in /usr/local/lib/python3.12/dist-packages (from tensorflow<2.20,>=2.19.0->tensorflow-text->keras-hub) (75.2.0)\n",
            "Requirement already satisfied: six>=1.12.0 in /usr/local/lib/python3.12/dist-packages (from tensorflow<2.20,>=2.19.0->tensorflow-text->keras-hub) (1.17.0)\n",
            "Requirement already satisfied: termcolor>=1.1.0 in /usr/local/lib/python3.12/dist-packages (from tensorflow<2.20,>=2.19.0->tensorflow-text->keras-hub) (3.1.0)\n",
            "Requirement already satisfied: typing-extensions>=3.6.6 in /usr/local/lib/python3.12/dist-packages (from tensorflow<2.20,>=2.19.0->tensorflow-text->keras-hub) (4.15.0)\n",
            "Requirement already satisfied: wrapt>=1.11.0 in /usr/local/lib/python3.12/dist-packages (from tensorflow<2.20,>=2.19.0->tensorflow-text->keras-hub) (1.17.3)\n",
            "Requirement already satisfied: grpcio<2.0,>=1.24.3 in /usr/local/lib/python3.12/dist-packages (from tensorflow<2.20,>=2.19.0->tensorflow-text->keras-hub) (1.75.0)\n",
            "Requirement already satisfied: tensorboard~=2.19.0 in /usr/local/lib/python3.12/dist-packages (from tensorflow<2.20,>=2.19.0->tensorflow-text->keras-hub) (2.19.0)\n",
            "Requirement already satisfied: charset_normalizer<4,>=2 in /usr/local/lib/python3.12/dist-packages (from requests->kagglehub->keras-hub) (3.4.3)\n",
            "Requirement already satisfied: idna<4,>=2.5 in /usr/local/lib/python3.12/dist-packages (from requests->kagglehub->keras-hub) (3.10)\n",
            "Requirement already satisfied: urllib3<3,>=1.21.1 in /usr/local/lib/python3.12/dist-packages (from requests->kagglehub->keras-hub) (2.5.0)\n",
            "Requirement already satisfied: certifi>=2017.4.17 in /usr/local/lib/python3.12/dist-packages (from requests->kagglehub->keras-hub) (2025.8.3)\n",
            "Requirement already satisfied: wheel<1.0,>=0.23.0 in /usr/local/lib/python3.12/dist-packages (from astunparse>=1.6.0->tensorflow<2.20,>=2.19.0->tensorflow-text->keras-hub) (0.45.1)\n",
            "Requirement already satisfied: markdown>=2.6.8 in /usr/local/lib/python3.12/dist-packages (from tensorboard~=2.19.0->tensorflow<2.20,>=2.19.0->tensorflow-text->keras-hub) (3.9)\n",
            "Requirement already satisfied: tensorboard-data-server<0.8.0,>=0.7.0 in /usr/local/lib/python3.12/dist-packages (from tensorboard~=2.19.0->tensorflow<2.20,>=2.19.0->tensorflow-text->keras-hub) (0.7.2)\n",
            "Requirement already satisfied: werkzeug>=1.0.1 in /usr/local/lib/python3.12/dist-packages (from tensorboard~=2.19.0->tensorflow<2.20,>=2.19.0->tensorflow-text->keras-hub) (3.1.3)\n",
            "Requirement already satisfied: MarkupSafe>=2.1.1 in /usr/local/lib/python3.12/dist-packages (from werkzeug>=1.0.1->tensorboard~=2.19.0->tensorflow<2.20,>=2.19.0->tensorflow-text->keras-hub) (3.0.2)\n",
            "Downloading keras_hub-0.22.2-py3-none-any.whl (947 kB)\n",
            "\u001b[2K   \u001b[90m━━━━━━━━━━━━━━━━━━━━━━━━━━━━━━━━━━━━━━━━\u001b[0m \u001b[32m947.9/947.9 kB\u001b[0m \u001b[31m26.3 MB/s\u001b[0m eta \u001b[36m0:00:00\u001b[0m\n",
            "\u001b[?25hInstalling collected packages: keras-hub\n",
            "  Attempting uninstall: keras-hub\n",
            "    Found existing installation: keras-hub 0.21.1\n",
            "    Uninstalling keras-hub-0.21.1:\n",
            "      Successfully uninstalled keras-hub-0.21.1\n",
            "\u001b[31mERROR: pip's dependency resolver does not currently take into account all the packages that are installed. This behaviour is the source of the following dependency conflicts.\n",
            "keras-nlp 0.21.1 requires keras-hub==0.21.1, but you have keras-hub 0.22.2 which is incompatible.\u001b[0m\u001b[31m\n",
            "\u001b[0mSuccessfully installed keras-hub-0.22.2\n",
            "Requirement already satisfied: keras in /usr/local/lib/python3.12/dist-packages (3.11.3)\n",
            "Requirement already satisfied: absl-py in /usr/local/lib/python3.12/dist-packages (from keras) (1.4.0)\n",
            "Requirement already satisfied: numpy in /usr/local/lib/python3.12/dist-packages (from keras) (2.0.2)\n",
            "Requirement already satisfied: rich in /usr/local/lib/python3.12/dist-packages (from keras) (13.9.4)\n",
            "Requirement already satisfied: namex in /usr/local/lib/python3.12/dist-packages (from keras) (0.1.0)\n",
            "Requirement already satisfied: h5py in /usr/local/lib/python3.12/dist-packages (from keras) (3.14.0)\n",
            "Requirement already satisfied: optree in /usr/local/lib/python3.12/dist-packages (from keras) (0.17.0)\n",
            "Requirement already satisfied: ml-dtypes in /usr/local/lib/python3.12/dist-packages (from keras) (0.5.3)\n",
            "Requirement already satisfied: packaging in /usr/local/lib/python3.12/dist-packages (from keras) (25.0)\n",
            "Requirement already satisfied: typing-extensions>=4.6.0 in /usr/local/lib/python3.12/dist-packages (from optree->keras) (4.15.0)\n",
            "Requirement already satisfied: markdown-it-py>=2.2.0 in /usr/local/lib/python3.12/dist-packages (from rich->keras) (4.0.0)\n",
            "Requirement already satisfied: pygments<3.0.0,>=2.13.0 in /usr/local/lib/python3.12/dist-packages (from rich->keras) (2.19.2)\n",
            "Requirement already satisfied: mdurl~=0.1 in /usr/local/lib/python3.12/dist-packages (from markdown-it-py>=2.2.0->rich->keras) (0.1.2)\n"
          ]
        }
      ],
      "source": [
        "import os\n",
        "os.environ[\"KERAS_BACKEND\"] = \"tensorflow\"\n",
        "import keras\n",
        "import numpy as np\n",
        "from keras import layers as L\n",
        "keras.utils.set_random_seed(42) # set seed to ensure reproducibility\n",
        "from keras import ops\n",
        "!pip install --upgrade keras\n",
        "!pip install --upgrade keras-cv\n",
        "!pip install --upgrade keras-hub\n",
        "!pip install --upgrade keras"
      ]
    },
    {
      "cell_type": "code",
      "source": [
        "# the mnist dataset is a large dataset of handwritten digits from 0-9, commonly used to evaluate computer vision tasks\n",
        "# we first load the data and split it between train and test sets\n",
        "(x_train, y_train), (x_test, y_test) = keras.datasets.mnist.load_data()\n",
        "\n",
        "# let's plot 10 random images from our test dataset, to see what we're trying to predict\n",
        "import matplotlib.pyplot as plt\n",
        "\n",
        "# first we sample 10 random indices from the test set\n",
        "idx = np.random.choice(len(x_test), size=10, replace=False)\n",
        "\n",
        "# then we grab the images and labels for those indices.\n",
        "imgs   = x_test[idx]      # shape (10, H, W, C) or (10, H, W)\n",
        "labels = y_test[idx]      # shape (10,)\n",
        "\n",
        "# ensure images are 4D for prediction (N, H, W, C). If they’re (N, H, W) add the channel axis.\n",
        "if imgs.ndim == 3:\n",
        "    imgs = imgs[..., None]\n",
        "\n",
        "# then plot a 2×5 grid, labeling each tile with the predicted class (and the true one if wrong).\n",
        "rows, cols = 2, 5\n",
        "plt.figure(figsize=(cols * 2.2, rows * 2.2))\n",
        "for i, (img, y_true) in enumerate(zip(imgs, labels)):\n",
        "    plt.subplot(rows, cols, i + 1)\n",
        "\n",
        "    # Display: grayscale if single channel, RGB otherwise\n",
        "    if img.shape[-1] == 1:\n",
        "        # Pick display range based on dtype for nicer contrast\n",
        "        vmin, vmax = (0, 255) if img.dtype == np.uint8 else (0, 1)\n",
        "        plt.imshow(img.squeeze(), cmap=\"gray\", vmin=vmin, vmax=vmax)\n",
        "    else:\n",
        "        plt.imshow(img)\n",
        "\n",
        "    title = f\"true label {int(y_true)}\"\n",
        "    plt.title(title)\n",
        "    plt.axis(\"off\")\n",
        "\n",
        "plt.suptitle(\"Random test samples\", y=1.02)\n",
        "plt.tight_layout()\n",
        "plt.show()"
      ],
      "metadata": {
        "id": "Wrse_ozrbODg",
        "outputId": "e6d15b04-414a-4310-cf93-a13ff3cecf47",
        "colab": {
          "base_uri": "https://localhost:8080/",
          "height": 470
        }
      },
      "execution_count": 8,
      "outputs": [
        {
          "output_type": "display_data",
          "data": {
            "text/plain": [
              "<Figure size 1100x440 with 10 Axes>"
            ],
            "image/png": "[encoded data removed]"
          },
          "metadata": {}
        }
      ]
    },
    {
      "cell_type": "code",
      "source": [
        "# normalize the images to the [0, 1] range\n",
        "x_train = x_train.astype(\"float32\") / 255\n",
        "x_test = x_test.astype(\"float32\") / 255\n",
        "# the mnist dataset provides a set of 28x28 greyscale images, but it doesn't explicitly set the number of channels to be 1 (greyscale)\n",
        "print(\"x_train shape:\", x_train.shape)\n",
        "print(\"x_test shape:\", x_test.shape)\n",
        "# so we add the extra dimension to the end for use in the later convolution layers\n",
        "x_train = np.expand_dims(x_train, -1)\n",
        "x_test = np.expand_dims(x_test, -1)\n",
        "print(\"x_train shape:\", x_train.shape)\n",
        "print(\"y_train shape:\", x_test.shape)\n",
        "print(x_train.shape[0], \"train samples\")\n",
        "print(x_test.shape[0], \"test samples\")"
      ],
      "metadata": {
        "colab": {
          "base_uri": "https://localhost:8080/"
        },
        "id": "XHc_8b6YIvvy",
        "outputId": "2140eead-171d-4add-c688-f1b50a95abb6"
      },
      "execution_count": 2,
      "outputs": [
        {
          "output_type": "stream",
          "name": "stdout",
          "text": [
            "Downloading data from https://storage.googleapis.com/tensorflow/tf-keras-datasets/mnist.npz\n",
            "\u001b[1m11490434/11490434\u001b[0m \u001b[32m━━━━━━━━━━━━━━━━━━━━\u001b[0m\u001b[37m\u001b[0m \u001b[1m0s\u001b[0m 0us/step\n",
            "x_train shape: (60000, 28, 28)\n",
            "x_test shape: (10000, 28, 28)\n",
            "x_train shape: (60000, 28, 28, 1)\n",
            "y_train shape: (10000, 28, 28, 1)\n",
            "60000 train samples\n",
            "10000 test samples\n"
          ]
        }
      ]
    },
    {
      "cell_type": "markdown",
      "source": [
        "# Core Deep Learning Model Families (cheat sheet)\n",
        "\n",
        "## MLP / Feed-Forward\n",
        "- **Use for:** tabular data, small classifiers, quick baselines  \n",
        "- **Idea:** dense layers on flattened inputs  \n",
        "- **Keras layers:** `Dense`, `Dropout`  \n",
        "- **TinyML notes:** very compact, but loses spatial or temporal structure\n",
        "\n",
        "## CNNs\n",
        "\n",
        "### 2D CNN\n",
        "- **Use for:** images, small vision tasks like digits or gauges  \n",
        "- **Idea:** local receptive fields with shared weights  \n",
        "- **Keras layers:** `Conv2D`, `DepthwiseConv2D`, `MaxPool2D`, `GlobalAveragePooling2D`  \n",
        "- **TinyML notes:** the workhorse with strong TFLite Micro support\n",
        "\n",
        "### 1D CNN\n",
        "- **Use for:** time series, sensor streams, audio features  \n",
        "- **Idea:** same as 2D but along a single axis  \n",
        "- **Keras layers:** `Conv1D`, `GlobalAveragePooling1D`  \n",
        "- **TinyML notes:** fast and memory friendly for forecasting\n",
        "\n",
        "### Depthwise-separable CNN\n",
        "- **Use for:** mobile or MCU efficiency with good accuracy  \n",
        "- **Idea:** depthwise conv per channel, then pointwise `1×1`  \n",
        "- **Keras layers:** `DepthwiseConv2D`, `Conv2D` with `kernel_size=1`  \n",
        "- **TinyML notes:** big savings in parameters and MACs\n",
        "\n",
        "## Residual CNNs and Inverted Residuals\n",
        "- **Use for:** deeper small models that train stably  \n",
        "- **Idea:** skip connections, MobileNetV2 style bottlenecks  \n",
        "- **Keras layers:** `Add` plus the usual convs  \n",
        "- **TinyML notes:** small extra RAM for the skip, usually worth it\n",
        "\n",
        "## TCN, Temporal Convolutional Networks\n",
        "- **Use for:** forecasting and sequence modeling without recurrence  \n",
        "- **Idea:** dilated causal `Conv1D` for long context  \n",
        "- **Keras layers:** `Conv1D` with `dilation_rate`, `padding=\"causal\"`  \n",
        "- **TinyML notes:** only conv ops, very deployment friendly\n",
        "\n",
        "## RNN / LSTM / GRU\n",
        "- **Use for:** sequences where order and long memory matter  \n",
        "- **Idea:** recurrent state flows step to step  \n",
        "- **Keras layers:** `SimpleRNN`, `LSTM`, `GRU`  \n",
        "- **TinyML notes:** heavier than Conv1D or TCN; TFLite support exists, TFLite Micro is tighter\n",
        "\n",
        "## Transformers\n",
        "- **Use for:** language, ViT, some multimodal tasks  \n",
        "- **Idea:** self-attention mixes all positions  \n",
        "- **Keras layers:** `MultiHeadAttention`, `LayerNormalization`, `Dense`  \n",
        "- **TinyML notes:** memory hungry; tiny variants exist but are harder on MCUs\n",
        "\n",
        "## Autoencoders (AE) and Variational AEs\n",
        "- **Use for:** compression, denoising, anomaly detection  \n",
        "- **Idea:** encode to a latent, reconstruct the input  \n",
        "- **Keras layers:** same CNN or MLP blocks plus a reconstruction head  \n",
        "- **TinyML notes:** small AEs are fine; VAEs add stochastic parts and extra cost\n",
        "\n",
        "## GANs\n",
        "- **Use for:** data synthesis, augmentation  \n",
        "- **Idea:** generator versus discriminator  \n",
        "- **TinyML notes:** training off device; inference can be heavy\n",
        "\n",
        "## Diffusion Models\n",
        "- **Use for:** high quality generative images or audio  \n",
        "- **Idea:** iterative denoising from noise  \n",
        "- **TinyML notes:** far too heavy for microcontrollers\n",
        "\n",
        "## Graph Neural Networks (GNNs)\n",
        "- **Use for:** graphs, molecules, road networks  \n",
        "- **Idea:** message passing over nodes and edges  \n",
        "- **TinyML notes:** niche and often requires custom ops\n",
        "\n",
        "---"
      ],
      "metadata": {
        "id": "egdh2b1sR0PJ"
      }
    },
    {
      "cell_type": "code",
      "source": [
        "# now we build a model to predict the digit using the keras functional API\n",
        "def build_functional_model(input_shape, num_classes):\n",
        "    \"\"\"\n",
        "    Build a small VGG-style CNN using the Functional API.\n",
        "    input_shape: tuple (H, W, C), for MNIST often (28, 28, 1)\n",
        "    num_classes: number of output classes for classification (often 10 for MNIST)\n",
        "    \"\"\"\n",
        "    inputs = keras.Input(shape=input_shape)         # Define the symbolic input tensor for the computation graph\n",
        "\n",
        "    # First convolutional block: two 3×3 convs\n",
        "    # Note: padding='valid' is the default and shrinks H and W by 2 each conv.\n",
        "    # If we want to keep spatial size, set padding='same'.\n",
        "    x = L.Conv2D(64, (3, 3), activation=\"relu\")(inputs)   # Extract local features with 64 filters, add nonlinearity\n",
        "    x = L.Conv2D(64, (3, 3), activation=\"relu\")(x)        # Stack another 3×3 to expand receptive field with modest params\n",
        "    x = L.MaxPooling2D((2, 2))(x)                         # Downsample by 2, reduce compute, gain some translation invariance\n",
        "\n",
        "    # Second convolutional block: increase channel depth as resolution drops\n",
        "    x = L.Conv2D(128, (3, 3), activation=\"relu\")(x)       # Learn richer features at lower spatial resolution\n",
        "    x = L.Conv2D(128, (3, 3), activation=\"relu\")(x)       # Another 3×3 for more expressive power without huge kernels\n",
        "\n",
        "    # Classifier head: make features compact, regularize, then classify\n",
        "    x = L.GlobalAveragePooling2D()(x)                     # Average each feature map over H and W, get a 128-D vector; avoids large Dense layers\n",
        "    x = L.Dropout(0.5)(x)                                 # Randomly drop activations during training, reduce overfitting; inactive at inference\n",
        "\n",
        "    outputs = L.Dense(num_classes, activation=\"softmax\")(x)  # Map to class probabilities for single-label multiclass tasks\n",
        "\n",
        "    return keras.Model(inputs=inputs,                      # Assemble inputs and outputs into a Model object\n",
        "                       outputs=outputs,\n",
        "                       name=\"mnist_predict_digits\")\n"
      ],
      "metadata": {
        "id": "KMu09wf2R4dU"
      },
      "execution_count": 3,
      "outputs": []
    },
    {
      "cell_type": "code",
      "source": [
        "# call the function to build the model. we use 10 classes since we have digits 0-9, and use the first training element to set the input shape\n",
        "model = build_functional_model(input_shape=x_train.shape[1:], num_classes=10)\n",
        "# compile the model to set the rules for fitting and evaluating the model.\n",
        "# adam is usually a good default optimizer (it uses SGD)\n",
        "# we use sparse categorical crossentropy for the loss since we have multiple output classes which are integers (0-9)\n",
        "# and we want to report on accuracy\n",
        "model.compile(optimizer=\"adam\",\n",
        "              loss=\"sparse_categorical_crossentropy\",\n",
        "              metrics=[\"accuracy\"])\n",
        "model.summary()\n",
        "## plot the model graph if we need it\n",
        "# keras.utils.plot_model(model, \"my_first_model_with_shape_info.png\", show_shapes=True)"
      ],
      "metadata": {
        "colab": {
          "base_uri": "https://localhost:8080/",
          "height": 443
        },
        "id": "olvWx3ACPG3K",
        "outputId": "7cf04f4e-42f9-4c45-9513-e477ec6505d0"
      },
      "execution_count": 4,
      "outputs": [
        {
          "output_type": "display_data",
          "data": {
            "text/plain": [
              "\u001b[1mModel: \"mnist_predict_digits\"\u001b[0m\n"
            ],
            "text/html": [
              "<pre style=\"white-space:pre;overflow-x:auto;line-height:normal;font-family:Menlo,'DejaVu Sans Mono',consolas,'Courier New',monospace\"><span style=\"font-weight: bold\">Model: \"mnist_predict_digits\"</span>\n",
              "</pre>\n"
            ]
          },
          "metadata": {}
        },
        {
          "output_type": "display_data",
          "data": {
            "text/plain": [
              "┏━━━━━━━━━━━━━━━━━━━━━━━━━━━━━━━━━┳━━━━━━━━━━━━━━━━━━━━━━━━┳━━━━━━━━━━━━━━━┓\n",
              "┃\u001b[1m \u001b[0m\u001b[1mLayer (type)                   \u001b[0m\u001b[1m \u001b[0m┃\u001b[1m \u001b[0m\u001b[1mOutput Shape          \u001b[0m\u001b[1m \u001b[0m┃\u001b[1m \u001b[0m\u001b[1m      Param #\u001b[0m\u001b[1m \u001b[0m┃\n",
              "┡━━━━━━━━━━━━━━━━━━━━━━━━━━━━━━━━━╇━━━━━━━━━━━━━━━━━━━━━━━━╇━━━━━━━━━━━━━━━┩\n",
              "│ input_layer (\u001b[38;5;33mInputLayer\u001b[0m)        │ (\u001b[38;5;45mNone\u001b[0m, \u001b[38;5;34m28\u001b[0m, \u001b[38;5;34m28\u001b[0m, \u001b[38;5;34m1\u001b[0m)      │             \u001b[38;5;34m0\u001b[0m │\n",
              "├─────────────────────────────────┼────────────────────────┼───────────────┤\n",
              "│ conv2d (\u001b[38;5;33mConv2D\u001b[0m)                 │ (\u001b[38;5;45mNone\u001b[0m, \u001b[38;5;34m26\u001b[0m, \u001b[38;5;34m26\u001b[0m, \u001b[38;5;34m64\u001b[0m)     │           \u001b[38;5;34m640\u001b[0m │\n",
              "├─────────────────────────────────┼────────────────────────┼───────────────┤\n",
              "│ conv2d_1 (\u001b[38;5;33mConv2D\u001b[0m)               │ (\u001b[38;5;45mNone\u001b[0m, \u001b[38;5;34m24\u001b[0m, \u001b[38;5;34m24\u001b[0m, \u001b[38;5;34m64\u001b[0m)     │        \u001b[38;5;34m36,928\u001b[0m │\n",
              "├─────────────────────────────────┼────────────────────────┼───────────────┤\n",
              "│ max_pooling2d (\u001b[38;5;33mMaxPooling2D\u001b[0m)    │ (\u001b[38;5;45mNone\u001b[0m, \u001b[38;5;34m12\u001b[0m, \u001b[38;5;34m12\u001b[0m, \u001b[38;5;34m64\u001b[0m)     │             \u001b[38;5;34m0\u001b[0m │\n",
              "├─────────────────────────────────┼────────────────────────┼───────────────┤\n",
              "│ conv2d_2 (\u001b[38;5;33mConv2D\u001b[0m)               │ (\u001b[38;5;45mNone\u001b[0m, \u001b[38;5;34m10\u001b[0m, \u001b[38;5;34m10\u001b[0m, \u001b[38;5;34m128\u001b[0m)    │        \u001b[38;5;34m73,856\u001b[0m │\n",
              "├─────────────────────────────────┼────────────────────────┼───────────────┤\n",
              "│ conv2d_3 (\u001b[38;5;33mConv2D\u001b[0m)               │ (\u001b[38;5;45mNone\u001b[0m, \u001b[38;5;34m8\u001b[0m, \u001b[38;5;34m8\u001b[0m, \u001b[38;5;34m128\u001b[0m)      │       \u001b[38;5;34m147,584\u001b[0m │\n",
              "├─────────────────────────────────┼────────────────────────┼───────────────┤\n",
              "│ global_average_pooling2d        │ (\u001b[38;5;45mNone\u001b[0m, \u001b[38;5;34m128\u001b[0m)            │             \u001b[38;5;34m0\u001b[0m │\n",
              "│ (\u001b[38;5;33mGlobalAveragePooling2D\u001b[0m)        │                        │               │\n",
              "├─────────────────────────────────┼────────────────────────┼───────────────┤\n",
              "│ dropout (\u001b[38;5;33mDropout\u001b[0m)               │ (\u001b[38;5;45mNone\u001b[0m, \u001b[38;5;34m128\u001b[0m)            │             \u001b[38;5;34m0\u001b[0m │\n",
              "├─────────────────────────────────┼────────────────────────┼───────────────┤\n",
              "│ dense (\u001b[38;5;33mDense\u001b[0m)                   │ (\u001b[38;5;45mNone\u001b[0m, \u001b[38;5;34m10\u001b[0m)             │         \u001b[38;5;34m1,290\u001b[0m │\n",
              "└─────────────────────────────────┴────────────────────────┴───────────────┘\n"
            ],
            "text/html": [
              "<pre style=\"white-space:pre;overflow-x:auto;line-height:normal;font-family:Menlo,'DejaVu Sans Mono',consolas,'Courier New',monospace\">┏━━━━━━━━━━━━━━━━━━━━━━━━━━━━━━━━━┳━━━━━━━━━━━━━━━━━━━━━━━━┳━━━━━━━━━━━━━━━┓\n",
              "┃<span style=\"font-weight: bold\"> Layer (type)                    </span>┃<span style=\"font-weight: bold\"> Output Shape           </span>┃<span style=\"font-weight: bold\">       Param # </span>┃\n",
              "┡━━━━━━━━━━━━━━━━━━━━━━━━━━━━━━━━━╇━━━━━━━━━━━━━━━━━━━━━━━━╇━━━━━━━━━━━━━━━┩\n",
              "│ input_layer (<span style=\"color: #0087ff; text-decoration-color: #0087ff\">InputLayer</span>)        │ (<span style=\"color: #00d7ff; text-decoration-color: #00d7ff\">None</span>, <span style=\"color: #00af00; text-decoration-color: #00af00\">28</span>, <span style=\"color: #00af00; text-decoration-color: #00af00\">28</span>, <span style=\"color: #00af00; text-decoration-color: #00af00\">1</span>)      │             <span style=\"color: #00af00; text-decoration-color: #00af00\">0</span> │\n",
              "├─────────────────────────────────┼────────────────────────┼───────────────┤\n",
              "│ conv2d (<span style=\"color: #0087ff; text-decoration-color: #0087ff\">Conv2D</span>)                 │ (<span style=\"color: #00d7ff; text-decoration-color: #00d7ff\">None</span>, <span style=\"color: #00af00; text-decoration-color: #00af00\">26</span>, <span style=\"color: #00af00; text-decoration-color: #00af00\">26</span>, <span style=\"color: #00af00; text-decoration-color: #00af00\">64</span>)     │           <span style=\"color: #00af00; text-decoration-color: #00af00\">640</span> │\n",
              "├─────────────────────────────────┼────────────────────────┼───────────────┤\n",
              "│ conv2d_1 (<span style=\"color: #0087ff; text-decoration-color: #0087ff\">Conv2D</span>)               │ (<span style=\"color: #00d7ff; text-decoration-color: #00d7ff\">None</span>, <span style=\"color: #00af00; text-decoration-color: #00af00\">24</span>, <span style=\"color: #00af00; text-decoration-color: #00af00\">24</span>, <span style=\"color: #00af00; text-decoration-color: #00af00\">64</span>)     │        <span style=\"color: #00af00; text-decoration-color: #00af00\">36,928</span> │\n",
              "├─────────────────────────────────┼────────────────────────┼───────────────┤\n",
              "│ max_pooling2d (<span style=\"color: #0087ff; text-decoration-color: #0087ff\">MaxPooling2D</span>)    │ (<span style=\"color: #00d7ff; text-decoration-color: #00d7ff\">None</span>, <span style=\"color: #00af00; text-decoration-color: #00af00\">12</span>, <span style=\"color: #00af00; text-decoration-color: #00af00\">12</span>, <span style=\"color: #00af00; text-decoration-color: #00af00\">64</span>)     │             <span style=\"color: #00af00; text-decoration-color: #00af00\">0</span> │\n",
              "├─────────────────────────────────┼────────────────────────┼───────────────┤\n",
              "│ conv2d_2 (<span style=\"color: #0087ff; text-decoration-color: #0087ff\">Conv2D</span>)               │ (<span style=\"color: #00d7ff; text-decoration-color: #00d7ff\">None</span>, <span style=\"color: #00af00; text-decoration-color: #00af00\">10</span>, <span style=\"color: #00af00; text-decoration-color: #00af00\">10</span>, <span style=\"color: #00af00; text-decoration-color: #00af00\">128</span>)    │        <span style=\"color: #00af00; text-decoration-color: #00af00\">73,856</span> │\n",
              "├─────────────────────────────────┼────────────────────────┼───────────────┤\n",
              "│ conv2d_3 (<span style=\"color: #0087ff; text-decoration-color: #0087ff\">Conv2D</span>)               │ (<span style=\"color: #00d7ff; text-decoration-color: #00d7ff\">None</span>, <span style=\"color: #00af00; text-decoration-color: #00af00\">8</span>, <span style=\"color: #00af00; text-decoration-color: #00af00\">8</span>, <span style=\"color: #00af00; text-decoration-color: #00af00\">128</span>)      │       <span style=\"color: #00af00; text-decoration-color: #00af00\">147,584</span> │\n",
              "├─────────────────────────────────┼────────────────────────┼───────────────┤\n",
              "│ global_average_pooling2d        │ (<span style=\"color: #00d7ff; text-decoration-color: #00d7ff\">None</span>, <span style=\"color: #00af00; text-decoration-color: #00af00\">128</span>)            │             <span style=\"color: #00af00; text-decoration-color: #00af00\">0</span> │\n",
              "│ (<span style=\"color: #0087ff; text-decoration-color: #0087ff\">GlobalAveragePooling2D</span>)        │                        │               │\n",
              "├─────────────────────────────────┼────────────────────────┼───────────────┤\n",
              "│ dropout (<span style=\"color: #0087ff; text-decoration-color: #0087ff\">Dropout</span>)               │ (<span style=\"color: #00d7ff; text-decoration-color: #00d7ff\">None</span>, <span style=\"color: #00af00; text-decoration-color: #00af00\">128</span>)            │             <span style=\"color: #00af00; text-decoration-color: #00af00\">0</span> │\n",
              "├─────────────────────────────────┼────────────────────────┼───────────────┤\n",
              "│ dense (<span style=\"color: #0087ff; text-decoration-color: #0087ff\">Dense</span>)                   │ (<span style=\"color: #00d7ff; text-decoration-color: #00d7ff\">None</span>, <span style=\"color: #00af00; text-decoration-color: #00af00\">10</span>)             │         <span style=\"color: #00af00; text-decoration-color: #00af00\">1,290</span> │\n",
              "└─────────────────────────────────┴────────────────────────┴───────────────┘\n",
              "</pre>\n"
            ]
          },
          "metadata": {}
        },
        {
          "output_type": "display_data",
          "data": {
            "text/plain": [
              "\u001b[1m Total params: \u001b[0m\u001b[38;5;34m260,298\u001b[0m (1016.79 KB)\n"
            ],
            "text/html": [
              "<pre style=\"white-space:pre;overflow-x:auto;line-height:normal;font-family:Menlo,'DejaVu Sans Mono',consolas,'Courier New',monospace\"><span style=\"font-weight: bold\"> Total params: </span><span style=\"color: #00af00; text-decoration-color: #00af00\">260,298</span> (1016.79 KB)\n",
              "</pre>\n"
            ]
          },
          "metadata": {}
        },
        {
          "output_type": "display_data",
          "data": {
            "text/plain": [
              "\u001b[1m Trainable params: \u001b[0m\u001b[38;5;34m260,298\u001b[0m (1016.79 KB)\n"
            ],
            "text/html": [
              "<pre style=\"white-space:pre;overflow-x:auto;line-height:normal;font-family:Menlo,'DejaVu Sans Mono',consolas,'Courier New',monospace\"><span style=\"font-weight: bold\"> Trainable params: </span><span style=\"color: #00af00; text-decoration-color: #00af00\">260,298</span> (1016.79 KB)\n",
              "</pre>\n"
            ]
          },
          "metadata": {}
        },
        {
          "output_type": "display_data",
          "data": {
            "text/plain": [
              "\u001b[1m Non-trainable params: \u001b[0m\u001b[38;5;34m0\u001b[0m (0.00 B)\n"
            ],
            "text/html": [
              "<pre style=\"white-space:pre;overflow-x:auto;line-height:normal;font-family:Menlo,'DejaVu Sans Mono',consolas,'Courier New',monospace\"><span style=\"font-weight: bold\"> Non-trainable params: </span><span style=\"color: #00af00; text-decoration-color: #00af00\">0</span> (0.00 B)\n",
              "</pre>\n"
            ]
          },
          "metadata": {}
        }
      ]
    },
    {
      "cell_type": "code",
      "source": [
        "# now we actually train our model using our test data\n",
        "# first we define callbacks that make training safer and faster.\n",
        "callbacks = [\n",
        "    # EarlyStopping watches validation loss; if it stops improving for 'patience' epochs,\n",
        "    # training halts early to prevent overfitting and to save time.\n",
        "    # restore_best_weights=True puts the model back to the epoch with the lowest val_loss.\n",
        "    keras.callbacks.EarlyStopping(\n",
        "        monitor=\"val_loss\",     # default; explicit for clarity\n",
        "        patience=5,             # wait 5 epochs without improvement\n",
        "        restore_best_weights=True\n",
        "    ),\n",
        "\n",
        "    # ReduceLROnPlateau lowers the learning rate when validation loss stalls.\n",
        "    # This often lets the optimizer settle into a better minimum after the fast phase.\n",
        "    keras.callbacks.ReduceLROnPlateau(\n",
        "        monitor=\"val_loss\",\n",
        "        factor=0.5,             # cut LR in half each time the plateau is detected\n",
        "        patience=2,             # wait 2 stagnant epochs before reducing LR\n",
        "        min_lr=1e-5             # do not shrink below this floor\n",
        "    ),\n",
        "]\n",
        "\n",
        "# then we train/fit the model.\n",
        "history = model.fit(\n",
        "    x_train, y_train,\n",
        "    validation_split=0.1,       # hold out 10% of training data for validation;\n",
        "                                # callbacks look at this, not the test set, to avoid leakage\n",
        "    epochs=20,                  # maximum number of passes; EarlyStopping may stop earlier\n",
        "    batch_size=128,             # tradeoff between speed and generalization; 128 is a solid default\n",
        "    callbacks=callbacks,               # attach the callbacks defined above\n",
        "    verbose=2                   # concise logs per epoch; change to 1 or 0 if you prefer\n",
        ")\n",
        "\n",
        "# then evaluate once on the unseen test set.\n",
        "# This gives an unbiased estimate of generalization, since we did not peek at it during training.\n",
        "test_loss, test_acc = model.evaluate(x_test, y_test, verbose=0)\n",
        "\n",
        "# finally report results for our model in a compact way.\n",
        "print(f\"Test loss: {test_loss:.4f}  |  Test accuracy: {test_acc:.4f}\")"
      ],
      "metadata": {
        "colab": {
          "base_uri": "https://localhost:8080/"
        },
        "id": "mU1cbpp8V3uT",
        "outputId": "e9babc08-df66-421c-ea7c-7037dc170aeb"
      },
      "execution_count": 5,
      "outputs": [
        {
          "output_type": "stream",
          "name": "stdout",
          "text": [
            "Epoch 1/20\n",
            "422/422 - 25s - 58ms/step - accuracy: 0.7500 - loss: 0.7348 - val_accuracy: 0.9620 - val_loss: 0.1447 - learning_rate: 1.0000e-03\n",
            "Epoch 2/20\n",
            "422/422 - 24s - 56ms/step - accuracy: 0.9389 - loss: 0.2047 - val_accuracy: 0.9785 - val_loss: 0.0831 - learning_rate: 1.0000e-03\n",
            "Epoch 3/20\n",
            "422/422 - 4s - 11ms/step - accuracy: 0.9584 - loss: 0.1384 - val_accuracy: 0.9828 - val_loss: 0.0618 - learning_rate: 1.0000e-03\n",
            "Epoch 4/20\n",
            "422/422 - 5s - 11ms/step - accuracy: 0.9661 - loss: 0.1157 - val_accuracy: 0.9863 - val_loss: 0.0509 - learning_rate: 1.0000e-03\n",
            "Epoch 5/20\n",
            "422/422 - 5s - 12ms/step - accuracy: 0.9718 - loss: 0.0961 - val_accuracy: 0.9882 - val_loss: 0.0432 - learning_rate: 1.0000e-03\n",
            "Epoch 6/20\n",
            "422/422 - 5s - 11ms/step - accuracy: 0.9761 - loss: 0.0806 - val_accuracy: 0.9890 - val_loss: 0.0396 - learning_rate: 1.0000e-03\n",
            "Epoch 7/20\n",
            "422/422 - 5s - 11ms/step - accuracy: 0.9777 - loss: 0.0748 - val_accuracy: 0.9900 - val_loss: 0.0362 - learning_rate: 1.0000e-03\n",
            "Epoch 8/20\n",
            "422/422 - 5s - 11ms/step - accuracy: 0.9799 - loss: 0.0686 - val_accuracy: 0.9910 - val_loss: 0.0331 - learning_rate: 1.0000e-03\n",
            "Epoch 9/20\n",
            "422/422 - 5s - 11ms/step - accuracy: 0.9823 - loss: 0.0605 - val_accuracy: 0.9908 - val_loss: 0.0325 - learning_rate: 1.0000e-03\n",
            "Epoch 10/20\n",
            "422/422 - 5s - 11ms/step - accuracy: 0.9828 - loss: 0.0592 - val_accuracy: 0.9920 - val_loss: 0.0287 - learning_rate: 1.0000e-03\n",
            "Epoch 11/20\n",
            "422/422 - 5s - 11ms/step - accuracy: 0.9834 - loss: 0.0555 - val_accuracy: 0.9927 - val_loss: 0.0286 - learning_rate: 1.0000e-03\n",
            "Epoch 12/20\n",
            "422/422 - 5s - 11ms/step - accuracy: 0.9854 - loss: 0.0479 - val_accuracy: 0.9922 - val_loss: 0.0269 - learning_rate: 1.0000e-03\n",
            "Epoch 13/20\n",
            "422/422 - 5s - 11ms/step - accuracy: 0.9870 - loss: 0.0445 - val_accuracy: 0.9922 - val_loss: 0.0276 - learning_rate: 1.0000e-03\n",
            "Epoch 14/20\n",
            "422/422 - 5s - 11ms/step - accuracy: 0.9868 - loss: 0.0447 - val_accuracy: 0.9907 - val_loss: 0.0333 - learning_rate: 1.0000e-03\n",
            "Epoch 15/20\n",
            "422/422 - 5s - 11ms/step - accuracy: 0.9898 - loss: 0.0336 - val_accuracy: 0.9927 - val_loss: 0.0287 - learning_rate: 5.0000e-04\n",
            "Epoch 16/20\n",
            "422/422 - 5s - 11ms/step - accuracy: 0.9900 - loss: 0.0332 - val_accuracy: 0.9937 - val_loss: 0.0246 - learning_rate: 5.0000e-04\n",
            "Epoch 17/20\n",
            "422/422 - 5s - 11ms/step - accuracy: 0.9903 - loss: 0.0318 - val_accuracy: 0.9933 - val_loss: 0.0265 - learning_rate: 5.0000e-04\n",
            "Epoch 18/20\n",
            "422/422 - 5s - 11ms/step - accuracy: 0.9911 - loss: 0.0295 - val_accuracy: 0.9938 - val_loss: 0.0258 - learning_rate: 5.0000e-04\n",
            "Epoch 19/20\n",
            "422/422 - 5s - 12ms/step - accuracy: 0.9923 - loss: 0.0255 - val_accuracy: 0.9938 - val_loss: 0.0267 - learning_rate: 2.5000e-04\n",
            "Epoch 20/20\n",
            "422/422 - 5s - 11ms/step - accuracy: 0.9920 - loss: 0.0252 - val_accuracy: 0.9938 - val_loss: 0.0268 - learning_rate: 2.5000e-04\n",
            "Test loss: 0.0192  |  Test accuracy: 0.9939\n"
          ]
        }
      ]
    },
    {
      "cell_type": "code",
      "source": [
        "# plot 10 images from our test dataset to help us visualize how our model is performing\n",
        "\n",
        "# first we sample 10 random indices from the test set\n",
        "idx = np.random.choice(len(x_test), size=10, replace=False)\n",
        "\n",
        "# then we grab the images and labels for those indices.\n",
        "imgs   = x_test[idx]      # shape (10, H, W, C) or (10, H, W)\n",
        "labels = y_test[idx]      # shape (10,)\n",
        "\n",
        "# ensure images are 4D for prediction (N, H, W, C). If they’re (N, H, W) add the channel axis.\n",
        "if imgs.ndim == 3:\n",
        "    imgs = imgs[..., None]\n",
        "\n",
        "# then run the model to get class probabilities, and take argmax → predicted class ID per image.\n",
        "probs = model.predict(imgs, verbose=0)      # shape (10, num_classes)\n",
        "preds = probs.argmax(axis=1)\n",
        "\n",
        "# then plot a 2×5 grid, labeling each tile with the predicted class (and the true one if wrong).\n",
        "rows, cols = 2, 5\n",
        "plt.figure(figsize=(cols * 2.2, rows * 2.2))\n",
        "for i, (img, y_true, y_pred) in enumerate(zip(imgs, labels, preds)):\n",
        "    plt.subplot(rows, cols, i + 1)\n",
        "\n",
        "    # Display: grayscale if single channel, RGB otherwise\n",
        "    if img.shape[-1] == 1:\n",
        "        # Pick display range based on dtype for nicer contrast\n",
        "        vmin, vmax = (0, 255) if img.dtype == np.uint8 else (0, 1)\n",
        "        plt.imshow(img.squeeze(), cmap=\"gray\", vmin=vmin, vmax=vmax)\n",
        "    else:\n",
        "        plt.imshow(img)\n",
        "\n",
        "    ok = int(y_true) == int(y_pred)\n",
        "    title = f\"pred {int(y_pred)}\" if ok else f\"pred {int(y_pred)} (true {int(y_true)})\"\n",
        "    plt.title(title)\n",
        "    plt.axis(\"off\")\n",
        "\n",
        "plt.suptitle(\"Random test samples with model predictions\", y=1.02)\n",
        "plt.tight_layout()\n",
        "plt.show()\n"
      ],
      "metadata": {
        "id": "Tmec17ekaoOo",
        "outputId": "a79091ce-b484-41dc-9578-6b29bc90787c",
        "colab": {
          "base_uri": "https://localhost:8080/",
          "height": 470
        }
      },
      "execution_count": 7,
      "outputs": [
        {
          "output_type": "display_data",
          "data": {
            "text/plain": [
              "<Figure size 1100x440 with 10 Axes>"
            ],
            "image/png": "[encoded data removed]"
          },
          "metadata": {}
        }
      ]
    }
  ]
}